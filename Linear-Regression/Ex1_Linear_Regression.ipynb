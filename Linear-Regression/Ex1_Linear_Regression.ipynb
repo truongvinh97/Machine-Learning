{
 "cells": [
  {
   "cell_type": "markdown",
   "metadata": {},
   "source": [
    "# Exercise 1: Linear Regression\n",
    "> In this exercise, I will implement the Linear Regression with one variable and work with example data.\n",
    "> * Input: Square feet (X)\n",
    "> * Output: House price in $1000s (Y)\n",
    "> * Number of training examples: 10"
   ]
  },
  {
   "cell_type": "markdown",
   "metadata": {},
   "source": [
    "## Table of contents\n",
    "* [1. Plotting the data](#C1)\n",
    "* [2. Gradient Descent](#C2)\n",
    "    * [2.1. Equations](Ex1_Linear_Regression.ipynb#C2_1)\n",
    "    * [2.2. Implementation](#C2.2)\n",
    "    * [2.3. Cost function $J(\\theta)$](#C2.3)\n",
    "    * [2.4. Gradient Descents](#C2.4)\n",
    "* [3. Visualizing $J(\\theta)$](#C3)"
   ]
  },
  {
   "cell_type": "markdown",
   "metadata": {},
   "source": [
    "## 1. Plotting the data <a class=\"anchor\" id=\"C1\"></a>\n",
    "This chapter show the graph of example data"
   ]
  },
  {
   "cell_type": "code",
   "execution_count": 1,
   "metadata": {},
   "outputs": [],
   "source": [
    "import numpy as np\n",
    "import pandas as pd\n",
    "import seaborn as sns\n",
    "import matplotlib.pyplot as plt\n",
    "%matplotlib inline"
   ]
  },
  {
   "cell_type": "code",
   "execution_count": 4,
   "metadata": {},
   "outputs": [
    {
     "data": {
      "text/html": [
       "<div>\n",
       "<style scoped>\n",
       "    .dataframe tbody tr th:only-of-type {\n",
       "        vertical-align: middle;\n",
       "    }\n",
       "\n",
       "    .dataframe tbody tr th {\n",
       "        vertical-align: top;\n",
       "    }\n",
       "\n",
       "    .dataframe thead th {\n",
       "        text-align: right;\n",
       "    }\n",
       "</style>\n",
       "<table border=\"1\" class=\"dataframe\">\n",
       "  <thead>\n",
       "    <tr style=\"text-align: right;\">\n",
       "      <th></th>\n",
       "      <th>House Price ($1000s)</th>\n",
       "      <th>Square Feet</th>\n",
       "    </tr>\n",
       "  </thead>\n",
       "  <tbody>\n",
       "    <tr>\n",
       "      <th>0</th>\n",
       "      <td>245</td>\n",
       "      <td>1400</td>\n",
       "    </tr>\n",
       "    <tr>\n",
       "      <th>1</th>\n",
       "      <td>312</td>\n",
       "      <td>1600</td>\n",
       "    </tr>\n",
       "    <tr>\n",
       "      <th>2</th>\n",
       "      <td>279</td>\n",
       "      <td>1700</td>\n",
       "    </tr>\n",
       "    <tr>\n",
       "      <th>3</th>\n",
       "      <td>308</td>\n",
       "      <td>1875</td>\n",
       "    </tr>\n",
       "    <tr>\n",
       "      <th>4</th>\n",
       "      <td>199</td>\n",
       "      <td>1100</td>\n",
       "    </tr>\n",
       "    <tr>\n",
       "      <th>5</th>\n",
       "      <td>219</td>\n",
       "      <td>1550</td>\n",
       "    </tr>\n",
       "    <tr>\n",
       "      <th>6</th>\n",
       "      <td>405</td>\n",
       "      <td>2350</td>\n",
       "    </tr>\n",
       "    <tr>\n",
       "      <th>7</th>\n",
       "      <td>324</td>\n",
       "      <td>2450</td>\n",
       "    </tr>\n",
       "    <tr>\n",
       "      <th>8</th>\n",
       "      <td>319</td>\n",
       "      <td>1425</td>\n",
       "    </tr>\n",
       "    <tr>\n",
       "      <th>9</th>\n",
       "      <td>255</td>\n",
       "      <td>1700</td>\n",
       "    </tr>\n",
       "  </tbody>\n",
       "</table>\n",
       "</div>"
      ],
      "text/plain": [
       "   House Price ($1000s)  Square Feet\n",
       "0                   245         1400\n",
       "1                   312         1600\n",
       "2                   279         1700\n",
       "3                   308         1875\n",
       "4                   199         1100\n",
       "5                   219         1550\n",
       "6                   405         2350\n",
       "7                   324         2450\n",
       "8                   319         1425\n",
       "9                   255         1700"
      ]
     },
     "execution_count": 4,
     "metadata": {},
     "output_type": "execute_result"
    }
   ],
   "source": [
    "df = pd.read_csv('example_data.txt', sep=',', header=None)\n",
    "df.columns = ['House Price ($1000s)', 'Square Feet']\n",
    "pd.DataFrame(df)\n"
   ]
  },
  {
   "cell_type": "code",
   "execution_count": 23,
   "metadata": {},
   "outputs": [
    {
     "data": {
      "image/png": "[encoded data removed]",
      "text/plain": [
       "<Figure size 640x480 with 1 Axes>"
      ]
     },
     "metadata": {},
     "output_type": "display_data"
    }
   ],
   "source": [
    "ax = sns.scatterplot(x='Square Feet', y='House Price ($1000s)', data=df, s = 200)\n",
    "ax.set(xlabel='Square Feet', ylabel='House Price ($1000s)', title='Scatter plot of example data');"
   ]
  },
  {
   "cell_type": "markdown",
   "metadata": {},
   "source": [
    "## 2. Gradient Descent <a class=\"anchor\" id=\"C2\"></a>\n",
    "This chapter fit the linear regression parameters $\\theta$ to the dataset using gradient descent"
   ]
  },
  {
   "cell_type": "markdown",
   "metadata": {},
   "source": [
    "### 2.1. Equations <a id='C2_1'></a>\n",
    "The hypothesis of linear regression is:\n",
    "$$h_{\\theta}(x)=\\theta_{0} + \\theta_{1} x_{1}$$\n",
    "The objective of linear regression is to minimize the cost function (Root Mean Square Error RMSE):\n",
    "$$J(\\theta_{0},\\theta_{1})=\\frac{1}{2m} \\Sigma(h_{\\theta}(x^{(i)}) - y^{(i)})^2$$\n",
    "To minimize the cost of $J(\\theta)$ we will use the batch gradient descent algorithm. In batch gradient descent, each iteration performs the update:\n",
    "\n",
    "$$\\theta_{j} := \\theta_{j} - \\alpha \\frac1m \\Sigma(h_{\\theta}(x^i) - y^i) x_{j}^{(i)}$$\n",
    "(simultaneously update $\\theta_{j}$ for all $j$ ). With each step of gradient descent, your parameters $\\theta_{j}$ come closer to the optimal values that will achieve the lowest cost $J(\\theta)$ .\n",
    "\n",
    "Note: $\\Sigma$ (with $i=1$ to $m$)"
   ]
  },
  {
   "cell_type": "markdown",
   "metadata": {},
   "source": []
  }
 ],
 "metadata": {
  "kernelspec": {
   "display_name": "Python 3.10.7 64-bit",
   "language": "python",
   "name": "python3"
  },
  "language_info": {
   "codemirror_mode": {
    "name": "ipython",
    "version": 3
   },
   "file_extension": ".py",
   "mimetype": "text/x-python",
   "name": "python",
   "nbconvert_exporter": "python",
   "pygments_lexer": "ipython3",
   "version": "3.10.7"
  },
  "orig_nbformat": 4,
  "vscode": {
   "interpreter": {
    "hash": "31671a60cee805c34c73116577b485118ff3a75c458d3004d49632c19702ac60"
   }
  }
 },
 "nbformat": 4,
 "nbformat_minor": 2
}
