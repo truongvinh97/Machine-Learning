{
  "cells": [
    {
      "attachments": {},
      "cell_type": "markdown",
      "metadata": {
        "id": "3LGpbq4tSiOw"
      },
      "source": [
        "# Bài tập về nhà 3\n",
        "# Convolutional Neural Network"
      ]
    },
    {
      "attachments": {},
      "cell_type": "markdown",
      "metadata": {
        "id": "1e8vwb3zTACs"
      },
      "source": [
        "### Tóm tắt nội dung\n",
        "Trong bài tập này, các bạn sẽ sử dụng kiến thức đã học về convolutional neural networks để giải quyết bài toán phân lớp (classification)."
      ]
    },
    {
      "attachments": {},
      "cell_type": "markdown",
      "metadata": {
        "id": "TbebJwTgTC9a"
      },
      "source": [
        "## Mục lục\n",
        "* [1. Hướng Dẫn](#C1)\n",
        "    * [1.1. Cấu trúc file](#C1_1)\n",
        "* [2. Sử dụng util.py ](#C2)\n",
        "    * [2.1. Hàm load_npy()](#C2_1)\n",
        "    * [2.2. Hàm load_list()](#C2_2)\n",
        "    * [2.3. Hàm save_list()](#C2_3)\n",
        "    * [2.4. Hàm read_mnist_gz()](#C2_4)\n",
        "    * [2.5. Hàm get_mnist_data()](#C2_5)\n",
        "    * [2.6. Hàm get_bat_data()](#C2_6)\n",
        "    * [2.7. Hàm normalize()](#C2_7)\n",
        "    * [2.8. Hàm create_one_hot()](#C2_8)\n",
        "* [3. Hiện thực convolution neural network với fashion mnist data](#C3)\n",
        "    * [3.1. Class mnist_classification](#C3_1)\n",
        "    * [3.2. Chọn tham số](#C3_2)\n",
        "    * [3.3. Huấn luyện mô hình](#C3_3)\n",
        "    * [3.4. Kết luận](#C3_4)\n",
        "* [4. Hiện thực neural network với bat data](#C4)\n",
        "    * [4.1. Class bat_classification](#C4_1)\n",
        "    * [4.2. Chọn tham số](#C4_2)\n",
        "    * [4.3. Huấn luyện mô hình](#C4_3)\n",
        "    * [4.4. Kết luận](#C4_4)"
      ]
    },
    {
      "cell_type": "markdown",
      "metadata": {
        "id": "8f8tLypk1elE"
      },
      "source": [
        "## 1. Hướng dẫn <a id='C1'></a>\n",
        "Chương này sẽ hướng dẫn những điều cần thiết để hoàn thành bài tập này."
      ]
    },
    {
      "attachments": {},
      "cell_type": "markdown",
      "metadata": {
        "id": "kESB1ROATIF7"
      },
      "source": [
        "\n",
        "Bài tập này sẽ gồm có hai bài chính:\n",
        "- Bài 1: phân loại tập fashion MNIST dùng convolutional neural networks.\n",
        "- Bài 2: phân loại tập bat data dùng neural networks.\n",
        "\n",
        "Yêu cầu dành cho các bạn trong là giải quyết hai bài trên bằng **Keras và TensorFlow**."
      ]
    },
    {
      "attachments": {},
      "cell_type": "markdown",
      "metadata": {
        "id": "eLgPOx1DpSwb"
      },
      "source": [
        "### 1.1. Cấu trúc file <a id='C1_1'></a>\n",
        "Bài tập lớn này được đi kèm với các file sau: \n",
        "- util.py: cung cấp các hàm để đọc dữ liệu trong thưc mục data thành các\n",
        "ma trận numpy. Bạn không cần chỉnh sửa file này.\n",
        "- cnn_tf.py: sử dụng Tensorflow và Keras để giải quyết bài 1 và 2.\n",
        "- bat.dat: dữ liệu của bài 1.\n",
        "- /fashion-mnist/*.gz: dữ liệu của bài 2."
      ]
    },
    {
      "cell_type": "markdown",
      "metadata": {
        "id": "caPRYRLnVwu8"
      },
      "source": [
        "## 2. Sử dụng util.py <a id='C2'></a>\n",
        "\n",
        "Chương này mô tả các feature trong file util.py."
      ]
    },
    {
      "cell_type": "markdown",
      "metadata": {
        "id": "kzajf88D1elI"
      },
      "source": [
        "Sử dụng các thư viện sau:"
      ]
    },
    {
      "cell_type": "code",
      "execution_count": 1,
      "metadata": {
        "id": "1gHJ1OZONpud"
      },
      "outputs": [],
      "source": [
        "\"\"\"\n",
        "This files helps you read data from data files\n",
        "\"\"\"\n",
        "import pickle\n",
        "import gzip\n",
        "import glob\n",
        "import numpy as np\n",
        "import sys\n",
        "\n",
        "import matplotlib.pyplot as plt\n",
        "import pdb"
      ]
    },
    {
      "cell_type": "markdown",
      "metadata": {
        "id": "28JBrurd1elL"
      },
      "source": [
        "### 2.1. Hàm load_npy() <a id='C2_1'></a>"
      ]
    },
    {
      "cell_type": "markdown",
      "metadata": {
        "id": "kVIKDhzh1elM"
      },
      "source": [
        "Mục đích: Sử dụng để load numpy data file\n",
        "- Input: file_name\n",
        "- Output: obj"
      ]
    },
    {
      "cell_type": "code",
      "execution_count": 2,
      "metadata": {
        "id": "1JV27SB0l0fD"
      },
      "outputs": [],
      "source": [
        "def load_npy(file_name):\n",
        "    \"\"\"load_npy\n",
        "    Load numpy data file. This is needed as python 2.7 pickle uses ascii as default encoding method but python 3.x uses utf-8.abs\n",
        "\n",
        "    :param file_name: npy file path\n",
        "    \n",
        "    :return obj: loaded numpy object\n",
        "    \"\"\"\n",
        "    \n",
        "    if (sys.version_info[0] >= 3):\n",
        "        obj = np.load(file_name, encoding='latin1')\n",
        "    elif (sys.version_info[0] >=2):\n",
        "        obj = np.load(file_name)\n",
        "    \n",
        "    return obj"
      ]
    },
    {
      "cell_type": "markdown",
      "metadata": {
        "id": "BesGbm3E1elN"
      },
      "source": [
        "### 2.2. Hàm load_list() <a id='C2_2'></a>"
      ]
    },
    {
      "cell_type": "markdown",
      "metadata": {
        "id": "oXq9HYyV1elO"
      },
      "source": [
        "Mục đích: Sử dụng để load 1 list object vào file_name\n",
        "- Input: file_name\n",
        "- Output: list_obj"
      ]
    },
    {
      "cell_type": "code",
      "execution_count": 3,
      "metadata": {
        "id": "eB6CKQKm1elO"
      },
      "outputs": [],
      "source": [
        "def load_list(file_name):\n",
        "    \"\"\"load_list\n",
        "    Load a list object to file_name.\n",
        "\n",
        "    :param file_name: string, file name.\n",
        "    \"\"\"\n",
        "    end_of_file = False\n",
        "    list_obj = [] \n",
        "    f = open(file_name, 'rb')\n",
        "    python_version = sys.version_info[0]\n",
        "    while (not end_of_file):\n",
        "        try:\n",
        "            if (python_version >= 3):\n",
        "                list_obj.append(pickle.load(f, encoding='latin1'))\n",
        "            elif (python_version >=2):\n",
        "                list_obj.append(pickle.load(f))\n",
        "        except EOFError:\n",
        "            end_of_file = True\n",
        "            print(\"EOF Reached\")\n",
        "\n",
        "    f.close()\n",
        "    return list_obj "
      ]
    },
    {
      "cell_type": "markdown",
      "metadata": {
        "id": "CtUXzgXa1elP"
      },
      "source": [
        "### 2.3. Hàm save_list() <a id='C2_3'></a>"
      ]
    },
    {
      "cell_type": "markdown",
      "metadata": {
        "id": "IgPGQJNA1elP"
      },
      "source": [
        "Mục đích: Sử dụng để save 1 list object vào trong file_name\n",
        "- Input: list_obj, file_name\n",
        "- Output: Save data"
      ]
    },
    {
      "cell_type": "code",
      "execution_count": 4,
      "metadata": {
        "id": "5J7H6UCb1elP"
      },
      "outputs": [],
      "source": [
        "def save_list(list_obj, file_name):\n",
        "    \"\"\"save_list\n",
        "    Save a list object to file_name\n",
        "    \n",
        "    :param list_obj: List of objects to be saved.\n",
        "    :param file_name: file name.\n",
        "    \"\"\"\n",
        "\n",
        "    f = open(file_name, 'wb')\n",
        "    for obj in list_obj:\n",
        "        pickle.dump(obj, f, pickle.HIGHEST_PROTOCOL)\n",
        "    f.close() "
      ]
    },
    {
      "attachments": {},
      "cell_type": "markdown",
      "metadata": {
        "id": "numqxZoz1elR"
      },
      "source": [
        "### 2.4. Hàm read_mnist_gz() <a id='C2_5'></a>"
      ]
    },
    {
      "cell_type": "markdown",
      "metadata": {
        "id": "aNLA1gUG1elR"
      },
      "source": [
        "Mục đích: Dùng để đọc fashion MNIST data dưới dạng nén\n",
        "- Input: data_path, offset\n",
        "- Output: dataset"
      ]
    },
    {
      "cell_type": "code",
      "execution_count": 5,
      "metadata": {
        "id": "qphe51lS1elR"
      },
      "outputs": [],
      "source": [
        "def read_mnist_gz(data_path, offset):\n",
        "    with gzip.open(data_path, 'rb') as f:\n",
        "        dataset = np.frombuffer(f.read(), dtype=np.uint8, offset=offset)\n",
        "\n",
        "    return dataset"
      ]
    },
    {
      "attachments": {},
      "cell_type": "markdown",
      "metadata": {
        "id": "9tt50Vtc1elS"
      },
      "source": [
        "### 2.5. Hàm get_mnist_data() <a id='C2_6'></a>"
      ]
    },
    {
      "cell_type": "markdown",
      "metadata": {
        "id": "fmCuNsbw1elS"
      },
      "source": [
        "Mục đích: Dùng để load fashion MNIST data\n",
        "- Input: sampling_step\n",
        "- Output: List của data"
      ]
    },
    {
      "cell_type": "code",
      "execution_count": 6,
      "metadata": {
        "id": "r08oC5sO1elS",
        "outputId": "07b2d610-fd47-4eb8-cf6b-484ee0ce0f50"
      },
      "outputs": [],
      "source": [
        "def get_mnist_data(sampling_step=20):\n",
        "    print('Reading fashion MNIST data...')\n",
        "    train_x = read_mnist_gz('./data/fashion-mnist/train-images-idx3-ubyte.gz', 16)\n",
        "    train_y = read_mnist_gz('./data/fashion-mnist/train-labels-idx1-ubyte.gz', 8)\n",
        "    test_x = read_mnist_gz('./data/fashion-mnist/t10k-images-idx3-ubyte.gz', 16)\n",
        "    test_y = read_mnist_gz('./data/fashion-mnist/t10k-labels-idx1-ubyte.gz', 8)\n",
        "    num_train = len(train_y)\n",
        "    num_test = len(test_y)\n",
        "\n",
        "    train_x = train_x.reshape((num_train, 28*28))\n",
        "    test_x = test_x.reshape((num_test, 28*28))\n",
        "\n",
        "    val_x = train_x[50000:,:]\n",
        "    val_y = train_y[50000:]\n",
        "    train_x = train_x[:50000,:]\n",
        "    train_y = train_y[:50000]\n",
        "\n",
        "    train_x = train_x[0::sampling_step,:]\n",
        "    train_y = train_y[0::sampling_step]\n",
        "    val_x = val_x[0::sampling_step,:]\n",
        "    val_y = val_y[0::sampling_step]\n",
        "    test_x = test_x[0::sampling_step,:]\n",
        "    test_y = test_y[0::sampling_step]\n",
        " \n",
        "    print(\"Done reading\")\n",
        "    return train_x.astype(np.float32), train_y, val_x.astype(np.float32), val_y, test_x.astype(np.float32), test_y"
      ]
    },
    {
      "attachments": {},
      "cell_type": "markdown",
      "metadata": {},
      "source": [
        "### 2.6. Hàm get_bat_data() <a id='C2_7'></a>"
      ]
    },
    {
      "cell_type": "markdown",
      "metadata": {},
      "source": [
        "Mục đích: Đọc liệu dơi\n",
        "- Input: bat data\n",
        "- Output: train_x, train_y, test_x, test_y"
      ]
    },
    {
      "cell_type": "code",
      "execution_count": 7,
      "metadata": {},
      "outputs": [],
      "source": [
        "def get_bat_data():\n",
        "    \"\"\"\n",
        "    Load bat data and return it as a list: [train_x, train_y, test_x, test_y]\n",
        "    \"\"\"\n",
        "    print('Reading bat data...')\n",
        "    train_x, train_y, test_x, test_y = load_list('./data/bat.dat')\n",
        "\n",
        "    print('Done reading')\n",
        "    return train_x, train_y, test_x, test_y"
      ]
    },
    {
      "attachments": {},
      "cell_type": "markdown",
      "metadata": {},
      "source": [
        "### 2.7. Hàm normalize() <a id='C2_10'></a>"
      ]
    },
    {
      "cell_type": "markdown",
      "metadata": {},
      "source": [
        "Mục đích: Chuẩn hóa\n",
        "- Input: train_x, val_x, test_x\n",
        "- Output: train_x, val_x, test_x"
      ]
    },
    {
      "cell_type": "code",
      "execution_count": 8,
      "metadata": {},
      "outputs": [],
      "source": [
        "def normalize(train_x, val_x, test_x):\n",
        "    \"\"\"normalize\n",
        "    This function computes train mean and standard deviation on all pixels then applying data scaling on train_x, val_x and test_x using these computed values\n",
        "\n",
        "    :param train_x: train samples, shape=(num_train, num_feature)\n",
        "    :param val_x: validation samples, shape=(num_val, num_feature)\n",
        "    :param test_x: test samples, shape=(num_test, num_feature)\n",
        "    \"\"\"\n",
        "    # train_mean and train_std should have the shape of (1, 1)\n",
        "    train_mean = np.mean(train_x, axis=(0,1), dtype=np.float64, keepdims=True)\n",
        "    train_std = np.std(train_x, axis=(0,1), dtype=np.float64, keepdims=True)\n",
        "\n",
        "    train_x = (train_x-train_mean)/train_std\n",
        "    val_x = (val_x-train_mean)/train_std\n",
        "    test_x = (test_x-train_mean)/train_std\n",
        "    return train_x, val_x, test_x"
      ]
    },
    {
      "attachments": {},
      "cell_type": "markdown",
      "metadata": {
        "id": "7yzZpItjWqe4"
      },
      "source": [
        "## 3. Hiện thực convolution neural network với fashion mnist data <a id='C3'></a>"
      ]
    },
    {
      "attachments": {},
      "cell_type": "markdown",
      "metadata": {
        "id": "ecv42PtbW2YX"
      },
      "source": [
        "### 3.1. Class mnist_classification <a id='C3_1'></a>"
      ]
    },
    {
      "cell_type": "code",
      "execution_count": 9,
      "metadata": {},
      "outputs": [],
      "source": [
        "import pandas as pd\n",
        "from util import * \n",
        "import matplotlib.pyplot as plt\n",
        "\n",
        "\n",
        "#Import Numpy for statistical calculations\n",
        "import numpy as np\n",
        "\n",
        "# Import Warnings \n",
        "import warnings\n",
        "warnings.filterwarnings('ignore')\n",
        "\n",
        "# Import matplotlib Library for data visualisation\n",
        "import matplotlib.pyplot as plt\n",
        "\n",
        "#Import train_test_split from scikit library\n",
        "from sklearn.model_selection import train_test_split\n",
        "\n",
        "# Import Keras\n",
        "import keras\n",
        "from keras.models import Sequential\n",
        "from keras.layers import Conv2D,MaxPooling2D,Dense,Flatten,Dropout\n",
        "from keras.optimizers import Adam\n",
        "from keras.callbacks import TensorBoard\n",
        "import tensorflow.compat.v1 as tf"
      ]
    },
    {
      "cell_type": "code",
      "execution_count": 12,
      "metadata": {},
      "outputs": [],
      "source": [
        "def mnist_classification():\n",
        "    # Load data from file\n",
        "    # Make sure that fashion-mnist/*.gz is in data/\n",
        "    x_train, y_train, x_validate, y_validate, x_test, y_test = get_mnist_data(1)\n",
        "\n",
        "    x_train, x_validate, x_test = normalize(x_train, x_validate, x_test)    \n",
        "\n",
        "    y_train = y_train.flatten().astype(np.int32)\n",
        "    y_validate = y_validate.flatten().astype(np.int32)\n",
        "    y_test = y_test.flatten().astype(np.int32)\n",
        "    image_shape = (28,28,1)\n",
        "\n",
        "    x_train = x_train.reshape(x_train.shape[0],*image_shape)\n",
        "    x_test = x_test.reshape(x_test.shape[0],*image_shape)\n",
        "    x_validate = x_validate.reshape(x_validate.shape[0],*image_shape)\n",
        "\n",
        "    # CNN parameters\n",
        "    learning_rate = 0.001\n",
        "    epochs_x = 50\n",
        "    batch_size = 512\n",
        "\n",
        "    # Choose activation function\n",
        "    activation = tf.nn.relu\n",
        "\n",
        "    # Create optimizer\n",
        "    optimizer = tf.train.AdamOptimizer(learning_rate=learning_rate)\n",
        "\n",
        "    cnn_model = Sequential([\n",
        "                Conv2D(filters=32,kernel_size=3,activation=activation,input_shape = image_shape),\n",
        "                MaxPooling2D(pool_size=2) ,# down sampling the output instead of 28*28 it is 14*14\n",
        "                Dropout(0.2),\n",
        "                Flatten(), # flatten out the layers\n",
        "                Dense(32,activation=activation),\n",
        "                Dense(10,activation = 'softmax')\n",
        "                ])\n",
        "   \n",
        "    # Specify that all features have real-value data\n",
        "    cnn_model.compile(loss ='sparse_categorical_crossentropy', optimizer=optimizer,metrics =['accuracy'])\n",
        "    cnn_model.summary()\n",
        "\n",
        "    tensorboard = TensorBoard(\n",
        "            log_dir = r'logs\\{}'.format('cnn_1layer'),\n",
        "            write_graph = True,\n",
        "            histogram_freq=1,\n",
        "            write_images = True\n",
        "            )\n",
        "    \n",
        "    history = cnn_model.fit(\n",
        "                x_train,\n",
        "                y_train,\n",
        "                batch_size=batch_size,\n",
        "                epochs=epochs_x,\n",
        "                verbose=1,\n",
        "                validation_data=(x_validate,y_validate),\n",
        "                callbacks = [tensorboard]\n",
        "                )\n",
        "    \n",
        "    score = cnn_model.evaluate(x_test,y_test,verbose=0)\n",
        "    print('Test Loss : {:.4f}'.format(score[0]))\n",
        "    print('Test Accuracy : {:.4f}'.format(score[1]))\n",
        "\n",
        "    # Plot data\n",
        "    accuracy = history.history['accuracy']\n",
        "    val_accuracy = history.history['val_accuracy']\n",
        "    loss = history.history['loss']\n",
        "    val_loss = history.history['val_loss']\n",
        "    epochs = range(len(accuracy))\n",
        "    plt.plot(epochs, accuracy, 'bo', label='Training Accuracy')\n",
        "    plt.plot(epochs, val_accuracy, 'b', label='Validation Accuracy')\n",
        "    plt.title('Training and Validation accuracy')\n",
        "    plt.legend()\n",
        "    plt.figure()\n",
        "    plt.plot(epochs, loss, 'bo', label='Training Loss')\n",
        "    plt.plot(epochs, val_loss, 'b', label='Validation Loss')\n",
        "    plt.title('Training and validation loss')\n",
        "    plt.legend()\n",
        "    plt.show()"
      ]
    },
    {
      "attachments": {},
      "cell_type": "markdown",
      "metadata": {
        "id": "RMUaX4rn1elY"
      },
      "source": [
        "### 3.2. Chọn tham số <a id='C3_2'></a>"
      ]
    },
    {
      "attachments": {},
      "cell_type": "markdown",
      "metadata": {},
      "source": [
        "- Ở đây chúng ta sẽ lựa chọn những tham số sau:\n",
        "    - learning_rate = 0.001\n",
        "    - epochs_x = 50\n",
        "    - batch_size = 512\n",
        "    - activation = tf.nn.relu\n",
        "    - optimizer = tf.train.AdamOptimizer(learning_rate=learning_rate)"
      ]
    },
    {
      "attachments": {},
      "cell_type": "markdown",
      "metadata": {},
      "source": [
        "### 3.3. Huấn luyện mô hình <a id='C3_3'></a>"
      ]
    },
    {
      "cell_type": "code",
      "execution_count": 13,
      "metadata": {},
      "outputs": [
        {
          "name": "stdout",
          "output_type": "stream",
          "text": [
            "Reading fashion MNIST data...\n",
            "Done reading\n",
            "Model: \"sequential_1\"\n",
            "_________________________________________________________________\n",
            " Layer (type)                Output Shape              Param #   \n",
            "=================================================================\n",
            " conv2d_1 (Conv2D)           (None, 26, 26, 32)        320       \n",
            "                                                                 \n",
            " max_pooling2d_1 (MaxPooling  (None, 13, 13, 32)       0         \n",
            " 2D)                                                             \n",
            "                                                                 \n",
            " dropout_1 (Dropout)         (None, 13, 13, 32)        0         \n",
            "                                                                 \n",
            " flatten_1 (Flatten)         (None, 5408)              0         \n",
            "                                                                 \n",
            " dense_2 (Dense)             (None, 32)                173088    \n",
            "                                                                 \n",
            " dense_3 (Dense)             (None, 10)                330       \n",
            "                                                                 \n",
            "=================================================================\n",
            "Total params: 173,738\n",
            "Trainable params: 173,738\n",
            "Non-trainable params: 0\n",
            "_________________________________________________________________\n",
            "Epoch 1/50\n",
            "98/98 [==============================] - 21s 203ms/step - loss: 0.6538 - accuracy: 0.7789 - val_loss: 0.4256 - val_accuracy: 0.8449\n",
            "Epoch 2/50\n",
            "98/98 [==============================] - 20s 206ms/step - loss: 0.3910 - accuracy: 0.8627 - val_loss: 0.3521 - val_accuracy: 0.8757\n",
            "Epoch 3/50\n",
            "98/98 [==============================] - 24s 244ms/step - loss: 0.3415 - accuracy: 0.8799 - val_loss: 0.3307 - val_accuracy: 0.8812\n",
            "Epoch 4/50\n",
            "98/98 [==============================] - 24s 249ms/step - loss: 0.3166 - accuracy: 0.8878 - val_loss: 0.3051 - val_accuracy: 0.8928\n",
            "Epoch 5/50\n",
            "98/98 [==============================] - 24s 250ms/step - loss: 0.3001 - accuracy: 0.8923 - val_loss: 0.3102 - val_accuracy: 0.8885\n",
            "Epoch 6/50\n",
            "98/98 [==============================] - 22s 224ms/step - loss: 0.2853 - accuracy: 0.8992 - val_loss: 0.2940 - val_accuracy: 0.8949\n",
            "Epoch 7/50\n",
            "98/98 [==============================] - 23s 234ms/step - loss: 0.2698 - accuracy: 0.9047 - val_loss: 0.2814 - val_accuracy: 0.9022\n",
            "Epoch 8/50\n",
            "98/98 [==============================] - 26s 264ms/step - loss: 0.2601 - accuracy: 0.9093 - val_loss: 0.2749 - val_accuracy: 0.9054\n",
            "Epoch 9/50\n",
            "98/98 [==============================] - 21s 217ms/step - loss: 0.2507 - accuracy: 0.9106 - val_loss: 0.2696 - val_accuracy: 0.9051\n",
            "Epoch 10/50\n",
            "98/98 [==============================] - 22s 229ms/step - loss: 0.2424 - accuracy: 0.9151 - val_loss: 0.2681 - val_accuracy: 0.9081\n",
            "Epoch 11/50\n",
            "98/98 [==============================] - 28s 288ms/step - loss: 0.2343 - accuracy: 0.9165 - val_loss: 0.2635 - val_accuracy: 0.9093\n",
            "Epoch 12/50\n",
            "98/98 [==============================] - 25s 253ms/step - loss: 0.2292 - accuracy: 0.9196 - val_loss: 0.2801 - val_accuracy: 0.8987\n",
            "Epoch 13/50\n",
            "98/98 [==============================] - 22s 228ms/step - loss: 0.2224 - accuracy: 0.9194 - val_loss: 0.2546 - val_accuracy: 0.9118\n",
            "Epoch 14/50\n",
            "98/98 [==============================] - 22s 227ms/step - loss: 0.2145 - accuracy: 0.9230 - val_loss: 0.2493 - val_accuracy: 0.9144\n",
            "Epoch 15/50\n",
            "98/98 [==============================] - 21s 212ms/step - loss: 0.2111 - accuracy: 0.9249 - val_loss: 0.2509 - val_accuracy: 0.9153\n",
            "Epoch 16/50\n",
            "98/98 [==============================] - 21s 219ms/step - loss: 0.2084 - accuracy: 0.9254 - val_loss: 0.2479 - val_accuracy: 0.9135\n",
            "Epoch 17/50\n",
            "98/98 [==============================] - 21s 209ms/step - loss: 0.1997 - accuracy: 0.9279 - val_loss: 0.2483 - val_accuracy: 0.9130\n",
            "Epoch 18/50\n",
            "98/98 [==============================] - 23s 236ms/step - loss: 0.1949 - accuracy: 0.9299 - val_loss: 0.2692 - val_accuracy: 0.9054\n",
            "Epoch 19/50\n",
            "98/98 [==============================] - 21s 212ms/step - loss: 0.1917 - accuracy: 0.9310 - val_loss: 0.2480 - val_accuracy: 0.9117\n",
            "Epoch 20/50\n",
            "98/98 [==============================] - 21s 213ms/step - loss: 0.1869 - accuracy: 0.9327 - val_loss: 0.2487 - val_accuracy: 0.9130\n",
            "Epoch 21/50\n",
            "98/98 [==============================] - 24s 248ms/step - loss: 0.1856 - accuracy: 0.9330 - val_loss: 0.2451 - val_accuracy: 0.9169\n",
            "Epoch 22/50\n",
            "98/98 [==============================] - 23s 236ms/step - loss: 0.1798 - accuracy: 0.9349 - val_loss: 0.2494 - val_accuracy: 0.9125\n",
            "Epoch 23/50\n",
            "98/98 [==============================] - 24s 240ms/step - loss: 0.1747 - accuracy: 0.9354 - val_loss: 0.2511 - val_accuracy: 0.9115\n",
            "Epoch 24/50\n",
            "98/98 [==============================] - 23s 233ms/step - loss: 0.1724 - accuracy: 0.9378 - val_loss: 0.2452 - val_accuracy: 0.9154\n",
            "Epoch 25/50\n",
            "98/98 [==============================] - 20s 203ms/step - loss: 0.1687 - accuracy: 0.9396 - val_loss: 0.2454 - val_accuracy: 0.9171\n",
            "Epoch 26/50\n",
            "98/98 [==============================] - 21s 212ms/step - loss: 0.1655 - accuracy: 0.9407 - val_loss: 0.2569 - val_accuracy: 0.9123\n",
            "Epoch 27/50\n",
            "98/98 [==============================] - 23s 230ms/step - loss: 0.1662 - accuracy: 0.9397 - val_loss: 0.2478 - val_accuracy: 0.9150\n",
            "Epoch 28/50\n",
            "98/98 [==============================] - 20s 202ms/step - loss: 0.1588 - accuracy: 0.9422 - val_loss: 0.2519 - val_accuracy: 0.9125\n",
            "Epoch 29/50\n",
            "98/98 [==============================] - 24s 244ms/step - loss: 0.1589 - accuracy: 0.9420 - val_loss: 0.2462 - val_accuracy: 0.9162\n",
            "Epoch 30/50\n",
            "98/98 [==============================] - 18s 187ms/step - loss: 0.1538 - accuracy: 0.9439 - val_loss: 0.2466 - val_accuracy: 0.9167\n",
            "Epoch 31/50\n",
            "98/98 [==============================] - 17s 178ms/step - loss: 0.1507 - accuracy: 0.9443 - val_loss: 0.2472 - val_accuracy: 0.9150\n",
            "Epoch 32/50\n",
            "98/98 [==============================] - 19s 190ms/step - loss: 0.1499 - accuracy: 0.9441 - val_loss: 0.2495 - val_accuracy: 0.9162\n",
            "Epoch 33/50\n",
            "98/98 [==============================] - 19s 196ms/step - loss: 0.1463 - accuracy: 0.9467 - val_loss: 0.2513 - val_accuracy: 0.9154\n",
            "Epoch 34/50\n",
            "98/98 [==============================] - 20s 201ms/step - loss: 0.1429 - accuracy: 0.9466 - val_loss: 0.2555 - val_accuracy: 0.9145\n",
            "Epoch 35/50\n",
            "98/98 [==============================] - 22s 228ms/step - loss: 0.1430 - accuracy: 0.9480 - val_loss: 0.2561 - val_accuracy: 0.9127\n",
            "Epoch 36/50\n",
            "98/98 [==============================] - 21s 216ms/step - loss: 0.1419 - accuracy: 0.9483 - val_loss: 0.2617 - val_accuracy: 0.9135\n",
            "Epoch 37/50\n",
            "98/98 [==============================] - 23s 233ms/step - loss: 0.1369 - accuracy: 0.9508 - val_loss: 0.2544 - val_accuracy: 0.9150\n",
            "Epoch 38/50\n",
            "98/98 [==============================] - 20s 206ms/step - loss: 0.1351 - accuracy: 0.9504 - val_loss: 0.2657 - val_accuracy: 0.9101\n",
            "Epoch 39/50\n",
            "98/98 [==============================] - 19s 195ms/step - loss: 0.1324 - accuracy: 0.9523 - val_loss: 0.2535 - val_accuracy: 0.9165\n",
            "Epoch 40/50\n",
            "98/98 [==============================] - 17s 177ms/step - loss: 0.1319 - accuracy: 0.9514 - val_loss: 0.2579 - val_accuracy: 0.9147\n",
            "Epoch 41/50\n",
            "98/98 [==============================] - 19s 197ms/step - loss: 0.1314 - accuracy: 0.9521 - val_loss: 0.2638 - val_accuracy: 0.9123\n",
            "Epoch 42/50\n",
            "98/98 [==============================] - 19s 199ms/step - loss: 0.1268 - accuracy: 0.9536 - val_loss: 0.2610 - val_accuracy: 0.9175\n",
            "Epoch 43/50\n",
            "98/98 [==============================] - 17s 177ms/step - loss: 0.1281 - accuracy: 0.9533 - val_loss: 0.2634 - val_accuracy: 0.9123\n",
            "Epoch 44/50\n",
            "98/98 [==============================] - 18s 189ms/step - loss: 0.1228 - accuracy: 0.9556 - val_loss: 0.2625 - val_accuracy: 0.9165\n",
            "Epoch 45/50\n",
            "98/98 [==============================] - 18s 184ms/step - loss: 0.1260 - accuracy: 0.9532 - val_loss: 0.2791 - val_accuracy: 0.9091\n",
            "Epoch 46/50\n",
            "98/98 [==============================] - 17s 176ms/step - loss: 0.1210 - accuracy: 0.9551 - val_loss: 0.2643 - val_accuracy: 0.9154\n",
            "Epoch 47/50\n",
            "98/98 [==============================] - 17s 177ms/step - loss: 0.1190 - accuracy: 0.9558 - val_loss: 0.2639 - val_accuracy: 0.9165\n",
            "Epoch 48/50\n",
            "98/98 [==============================] - 20s 200ms/step - loss: 0.1156 - accuracy: 0.9568 - val_loss: 0.2749 - val_accuracy: 0.9141\n",
            "Epoch 49/50\n",
            "98/98 [==============================] - 23s 231ms/step - loss: 0.1148 - accuracy: 0.9575 - val_loss: 0.2677 - val_accuracy: 0.9152\n",
            "Epoch 50/50\n",
            "98/98 [==============================] - 23s 239ms/step - loss: 0.1154 - accuracy: 0.9578 - val_loss: 0.2689 - val_accuracy: 0.9155\n",
            "Test Loss : 0.2862\n",
            "Test Accuracy : 0.9117\n"
          ]
        },
        {
          "data": {
            "image/png": "[encoded data removed]",
            "text/plain": [
              "<Figure size 640x480 with 1 Axes>"
            ]
          },
          "metadata": {},
          "output_type": "display_data"
        },
        {
          "data": {
            "image/png": "[encoded data removed]",
            "text/plain": [
              "<Figure size 640x480 with 1 Axes>"
            ]
          },
          "metadata": {},
          "output_type": "display_data"
        }
      ],
      "source": [
        "if __name__ == '__main__':\n",
        "    np.random.seed(2017) \n",
        "    plt.ion()\n",
        "    mnist_classification()"
      ]
    },
    {
      "attachments": {},
      "cell_type": "markdown",
      "metadata": {
        "id": "4e3JORB8PEfL"
      },
      "source": [
        "### 3.4. Kết luận <a id='C3_4'></a>\n",
        "\n"
      ]
    },
    {
      "attachments": {},
      "cell_type": "markdown",
      "metadata": {},
      "source": [
        "- CNN đem lại kết quả rất khả quan cho bài toán classification, tuy nhiên thời gian huấn luyện đồng thời cũng lâu hơn khá nhiều so với những giải thuật khác.\n",
        "- Kết quả cho bài toán Fashion MNIST classification là:\n",
        "    - Test Loss : 0.2862\n",
        "    - Test Accuracy : 0.9117\n",
        "- Nhận xét về tâp dữ liệu MNIST: Có vẻ như sự đa dạng của các mẫu tương tự hiện diện trên nhiều lớp ảnh hưởng đến hiệu suất của bộ phân loại mặc dù CNN là một kiến ​​trúc mạnh mẽ. Áo khoác, áo sơ mi và áo cánh dài tay có các mẫu tương tự nhau: tay áo dài (hoặc không), nút (hoặc không),..."
      ]
    },
    {
      "attachments": {},
      "cell_type": "markdown",
      "metadata": {
        "id": "ukKgfwZtRH8y"
      },
      "source": [
        "## 4. Hiện thực convolution neural network với bat data<a id='C4'></a>"
      ]
    },
    {
      "attachments": {},
      "cell_type": "markdown",
      "metadata": {
        "id": "4e3JORB8PEfL"
      },
      "source": [
        "### 4.1. Class bat_classification <a id='C4_1'></a>\n",
        "\n"
      ]
    },
    {
      "cell_type": "code",
      "execution_count": null,
      "metadata": {},
      "outputs": [],
      "source": [
        "def bat_classification():\n",
        "    # Load data from file\n",
        "    # Make sure that bat.dat is in data/\n",
        "    x_train, y_train, x_test, y_test = get_bat_data()\n",
        "    x_train, _, x_test = normalize(x_train, x_train, x_test)    \n",
        "\n",
        "    y_test  = y_test.flatten().astype(np.int32)\n",
        "    y_train = y_train.flatten().astype(np.int32)\n",
        "    num_class = (np.unique(y_train)).shape[0]\n",
        "\n",
        "    image_shape = (x_train.shape[0],1)\n",
        "\n",
        "    x_train = x_train.reshape(x_train.shape[0],*image_shape)\n",
        "    x_test = x_test.reshape(x_test.shape[0],*image_shape)\n",
        " \n",
        "    # CNN parameters\n",
        "    learning_rate = 0.01\n",
        "    epochs_x = 100\n",
        "    batch_size = 512\n",
        "\n",
        "    # Choose activation function\n",
        "    activation = tf.nn.relu\n",
        "\n",
        "    # Create optimizer\n",
        "    optimizer = tf.train.AdamOptimizer(learning_rate=learning_rate)\n",
        "\n",
        "    cnn_model = Sequential([\n",
        "                Conv2D(filters=32,kernel_size=3,activation=activation,input_shape = image_shape),\n",
        "                MaxPooling2D(pool_size=2) ,# down sampling the output instead of 28*28 it is 14*14\n",
        "                Dropout(0.2),\n",
        "                Flatten(), # flatten out the layers\n",
        "                Dense(32,activation=activation),\n",
        "                Dense(10,activation = 'softmax')\n",
        "                ])\n",
        "   \n",
        "    # Specify that all features have real-value data\n",
        "    cnn_model.compile(loss ='sparse_categorical_crossentropy', optimizer=optimizer,metrics =['accuracy'])\n",
        "    cnn_model.summary()\n",
        "\n",
        "    tensorboard = TensorBoard(\n",
        "            log_dir = r'logs\\{}'.format('cnn_1layer'),\n",
        "            write_graph = True,\n",
        "            histogram_freq=1,\n",
        "            write_images = True\n",
        "            )\n",
        "    \n",
        "    history = cnn_model.fit(\n",
        "                x_train,\n",
        "                y_train,\n",
        "                batch_size=batch_size,\n",
        "                epochs=epochs_x,\n",
        "                verbose=1,\n",
        "                validation_data=(x_train,x_train),\n",
        "                callbacks = [tensorboard]\n",
        "                )\n",
        "    \n",
        "    score = cnn_model.evaluate(x_test,y_test,verbose=0)\n",
        "    print('Test Loss : {:.4f}'.format(score[0]))\n",
        "    print('Test Accuracy : {:.4f}'.format(score[1]))\n",
        "\n",
        "    # Plot data\n",
        "    accuracy = history.history['accuracy']\n",
        "    val_accuracy = history.history['val_accuracy']\n",
        "    loss = history.history['loss']\n",
        "    val_loss = history.history['val_loss']\n",
        "    epochs = range(len(accuracy))\n",
        "    plt.plot(epochs, accuracy, 'bo', label='Training Accuracy')\n",
        "    plt.plot(epochs, val_accuracy, 'b', label='Validation Accuracy')\n",
        "    plt.title('Training and Validation accuracy')\n",
        "    plt.legend()\n",
        "    plt.figure()\n",
        "    plt.plot(epochs, loss, 'bo', label='Training Loss')\n",
        "    plt.plot(epochs, val_loss, 'b', label='Validation Loss')\n",
        "    plt.title('Training and validation loss')\n",
        "    plt.legend()\n",
        "    plt.show()"
      ]
    },
    {
      "attachments": {},
      "cell_type": "markdown",
      "metadata": {
        "id": "4e3JORB8PEfL"
      },
      "source": [
        "### 4.2. Chọn tham số <a id='C4_2'></a>\n",
        "\n"
      ]
    },
    {
      "attachments": {},
      "cell_type": "markdown",
      "metadata": {},
      "source": [
        "- Ở đây chúng ta sẽ lựa chọn những tham số sau:\n",
        "    - learning_rate = 0.01\n",
        "    - epochs_x = 100\n",
        "    - batch_size = 512\n",
        "    - activation = tf.nn.relu\n",
        "    - optimizer = tf.train.AdamOptimizer(learning_rate=learning_rate)"
      ]
    },
    {
      "attachments": {},
      "cell_type": "markdown",
      "metadata": {
        "id": "4e3JORB8PEfL"
      },
      "source": [
        "### 4.3. Huấn luyện mô hình <a id='C4_3'></a>\n",
        "\n"
      ]
    },
    {
      "cell_type": "code",
      "execution_count": null,
      "metadata": {},
      "outputs": [],
      "source": [
        "if __name__ == '__main__':\n",
        "    np.random.seed(2017) \n",
        "\n",
        "    plt.ion()\n",
        "    bat_classification()"
      ]
    },
    {
      "attachments": {},
      "cell_type": "markdown",
      "metadata": {
        "id": "4e3JORB8PEfL"
      },
      "source": [
        "### 4.4. Kết luận <a id='C4_4'></a>\n",
        "\n"
      ]
    },
    {
      "attachments": {},
      "cell_type": "markdown",
      "metadata": {},
      "source": [
        "- Mô hình NN nói chung và CNN nói riêng vẫn rất hiệu quả trong bài toán phân lớp.\n",
        "- Kết quả cho bài toán Bat classification là:\n",
        "- Nhận xét về tâp dữ liệu Bat: Đơn giản hơn và training nhanh hơn"
      ]
    }
  ],
  "metadata": {
    "accelerator": "GPU",
    "colab": {
      "collapsed_sections": [
        "MSU-sZg3oM7N",
        "GwSNZlg2qFCv",
        "enKFoBSRRNQw",
        "WkG26LWSSdDg",
        "69rProsfTYWS",
        "Yy_5nMf7mOTW"
      ],
      "provenance": [],
      "toc_visible": true
    },
    "kernelspec": {
      "display_name": "Python 3.10.7 64-bit",
      "language": "python",
      "name": "python3"
    },
    "language_info": {
      "codemirror_mode": {
        "name": "ipython",
        "version": 3
      },
      "file_extension": ".py",
      "mimetype": "text/x-python",
      "name": "python",
      "nbconvert_exporter": "python",
      "pygments_lexer": "ipython3",
      "version": "3.10.7"
    },
    "vscode": {
      "interpreter": {
        "hash": "31671a60cee805c34c73116577b485118ff3a75c458d3004d49632c19702ac60"
      }
    }
  },
  "nbformat": 4,
  "nbformat_minor": 0
}
